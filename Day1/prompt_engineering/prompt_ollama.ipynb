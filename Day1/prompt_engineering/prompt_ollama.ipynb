{
 "cells": [
  {
   "cell_type": "code",
   "execution_count": 1,
   "id": "initial_id",
   "metadata": {
    "collapsed": true,
    "ExecuteTime": {
     "end_time": "2024-06-17T09:29:59.238444Z",
     "start_time": "2024-06-17T09:29:59.072132Z"
    }
   },
   "outputs": [],
   "source": [
    "from openai import OpenAI\n",
    "import os\n",
    "\n",
    "\n",
    "api_key= os.environ.get(\"OPENAI_API_KEY\")\n",
    "\n",
    "client = OpenAI(\n",
    "    api_key=os.environ.get(\"OPENAI_API_KEY\"),\n",
    ")\n",
    "\n",
    "\n",
    "def call_gpt(system_prompt: str, user_prompt: str):\n",
    "    response = client.chat.completions.create(\n",
    "        model=\"gpt-3.5-turbo\",\n",
    "        messages=[\n",
    "            {\"role\": \"system\", \"content\": system_prompt},\n",
    "            {\"role\": \"user\", \"content\": user_prompt},\n",
    "        ]\n",
    "    )\n",
    "\n",
    "    return response.choices[0].message.content"
   ]
  },
  {
   "cell_type": "code",
   "execution_count": 2,
   "outputs": [
    {
     "data": {
      "text/plain": "'Sure! Here is the sorted list of numbers from 1 to 100:\\n\\n1, 2, 3, 4, 5, 6, 7, 8, 9, 10, 11, 12, 13, 14, 15, 16, 17, 18, 19, 20, 21, 22, 23, 24, 25, 26, 27, 28, 29, 30, 31, 32, 33, 34, 35, 36, 37, 38, 39, 40, 41, 42, 43, 44, 45, 46, 47, 48, 49, 50, 51, 52, 53, 54, 55, 56, 57, 58, 59, 60, 61, 62, 63, 64, 65, 66, 67, 68, 69, 70, 71, 72, 73, 74, 75, 76, 77, 78, 79, 80, 81, 82, 83, 84, 85, 86, 87, 88, 89, 90, 91, 92, 93, 94, 95, 96, 97, 98, 99, 100.'"
     },
     "execution_count": 2,
     "metadata": {},
     "output_type": "execute_result"
    }
   ],
   "source": [
    "system_prompt = \"You are great assistant.\"\n",
    "n = 100\n",
    "prompt_query = f\"Please provide a sorted list of numbers from 1 to {n}.\"\n",
    "call_gpt(system_prompt, prompt_query)"
   ],
   "metadata": {
    "collapsed": false,
    "ExecuteTime": {
     "end_time": "2024-06-17T09:33:27.176191Z",
     "start_time": "2024-06-17T09:33:20.016084Z"
    }
   },
   "id": "d264635c7250f4a5"
  },
  {
   "cell_type": "code",
   "execution_count": 5,
   "outputs": [],
   "source": [
    "import ollama\n",
    "\n",
    "def call_ollama(system_prompt: str, user_prompt: str, model: str = \"llama3\"):\n",
    "    response = ollama.chat(model=model, messages=[\n",
    "        {\"role\": \"system\", \"content\": system_prompt},\n",
    "        {\"role\": \"user\", \"content\": user_prompt},\n",
    "    ])\n",
    "\n",
    "    return response['message']['content']"
   ],
   "metadata": {
    "collapsed": false,
    "ExecuteTime": {
     "end_time": "2024-06-17T09:36:59.767511Z",
     "start_time": "2024-06-17T09:36:59.764270Z"
    }
   },
   "id": "667e1f054419455a"
  },
  {
   "cell_type": "code",
   "execution_count": 6,
   "outputs": [
    {
     "data": {
      "text/plain": "'Here is the sorted list of numbers from 1 to 100:\\n\\n1, 2, 3, 4, 5, 6, 7, 8, 9, 10, 11, 12, 13, 14, 15, 16, 17, 18, 19, 20, 21, 22, 23, 24, 25, 26, 27, 28, 29, 30, 31, 32, 33, 34, 35, 36, 37, 38, 39, 40, 41, 42, 43, 44, 45, 46, 47, 48, 49, 50, 51, 52, 53, 54, 55, 56, 57, 58, 59, 60, 61, 62, 63, 64, 65, 66, 67, 68, 69, 70, 71, 72, 73, 74, 75, 76, 77, 78, 79, 80, 81, 82, 83, 84, 85, 86, 87, 88, 89, 90, 91, 92, 93, 94, 95, 96, 97, 98, 99, 100'"
     },
     "execution_count": 6,
     "metadata": {},
     "output_type": "execute_result"
    }
   ],
   "source": [
    "call_ollama(system_prompt, prompt_query)"
   ],
   "metadata": {
    "collapsed": false,
    "ExecuteTime": {
     "end_time": "2024-06-17T09:37:06.503607Z",
     "start_time": "2024-06-17T09:37:00.321891Z"
    }
   },
   "id": "6e452007c14a8d34"
  },
  {
   "cell_type": "code",
   "execution_count": 7,
   "outputs": [],
   "source": [
    "import random\n",
    "\n",
    "def select_and_shuffle(a, b, seed=None):\n",
    "    if seed is not None:\n",
    "        random.seed(seed)\n",
    "        \n",
    "    numbers = list(range(1, a + 1))\n",
    "\n",
    "    selected_numbers = [random.choice(numbers) for _ in range(b)]\n",
    "\n",
    "    random.shuffle(selected_numbers)\n",
    "\n",
    "    return selected_numbers"
   ],
   "metadata": {
    "collapsed": false,
    "ExecuteTime": {
     "end_time": "2024-06-17T09:39:26.936569Z",
     "start_time": "2024-06-17T09:39:26.931694Z"
    }
   },
   "id": "9c80340420005d04"
  },
  {
   "cell_type": "code",
   "execution_count": 13,
   "outputs": [
    {
     "data": {
      "text/plain": "50"
     },
     "execution_count": 13,
     "metadata": {},
     "output_type": "execute_result"
    }
   ],
   "source": [
    "a = 100000\n",
    "b = 50\n",
    "target_list = select_and_shuffle(a, b, 0)\n",
    "len(target_list)"
   ],
   "metadata": {
    "collapsed": false,
    "ExecuteTime": {
     "end_time": "2024-06-17T09:44:36.079530Z",
     "start_time": "2024-06-17T09:44:36.075033Z"
    }
   },
   "id": "17607fd95e613c77"
  },
  {
   "cell_type": "code",
   "execution_count": 16,
   "outputs": [
    {
     "name": "stdout",
     "output_type": "stream",
     "text": [
      "[1841, 5307, 8164, 9666, 12226, 12430, 12946, 13200, 18255, 18317, 19263, 26802, 28632, 32835, 33937, 34144, 36942, 39756, 40652, 41445, 43280, 46373, 46931, 50495, 53076, 55126, 56908, 58025, 61885, 62469, 62523, 63692, 66151, 67014, 68335, 69805, 71920, 72421, 73376, 76466, 78893, 80071, 81051, 83942, 89652, 92429, 94334, 95661, 99065, 99347]\n",
      "#########\n",
      "Sure! Here are the values in ascending order:\n",
      "\n",
      "[1841, 5307, 8164, 9666, 12226, 12430, 12946, 13200, 18255, 18317, 19263, 26802, 28632, 32835, 33937, 34144, 36942, 39756, 40652, 41445, 43280, 46373, 46931, 50495, 53076, 56908, 58025, 61885, 62469, 62523, 63692, 66151, 67014, 68335, 69805, 71920, 72421, 73376, 76466, 78893, 80071, 81051, 83942, 89652, 92429, 94334, 95661, 99065, 99347]\n",
      "#########\n",
      "After sorting the values in ascending order, I got:\n",
      "\n",
      "[1841, 18255, 19263, 12226, 12430, 13200, 18317, 26802, 28632, 32835, 33937, 36942, 41445, 43280, 46373, 46931, 50495, 5307, 53076, 56908, 58025, 61192, 61985, 63692, 66151, 67014, 68335, 69805, 71920, 72421, 73376, 76466, 79093, 80071, 81051, 8164, 83942, 89652, 92429, 94334, 9666, 96947, 99065]\n",
      "\n",
      "Let me know if you need anything else!\n"
     ]
    }
   ],
   "source": [
    "prompt_query_sort_v1 = f\"Please sort the values in the following list in ascending order. {target_list}\"\n",
    "\n",
    "print(sorted(target_list))\n",
    "print(\"#########\")\n",
    "print(call_gpt(system_prompt, prompt_query_sort_v1))\n",
    "print(\"#########\")\n",
    "print(call_ollama(system_prompt, prompt_query_sort_v1))"
   ],
   "metadata": {
    "collapsed": false,
    "ExecuteTime": {
     "end_time": "2024-06-17T09:46:45.808946Z",
     "start_time": "2024-06-17T09:46:37.002364Z"
    }
   },
   "id": "5945a8afe7ddf160"
  },
  {
   "cell_type": "code",
   "execution_count": 17,
   "outputs": [
    {
     "name": "stdout",
     "output_type": "stream",
     "text": [
      "Here is the list of values in ascending order by numerical value:\n",
      "\n",
      "1. 1841\n",
      "2. 18255\n",
      "3. 19263\n",
      "4. 26802\n",
      "5. 28632\n",
      "6. 32835\n",
      "7. 33937\n",
      "8. 36942\n",
      "9. 40652\n",
      "10. 41445\n",
      "11. 43280\n",
      "12. 46931\n",
      "13. 46373\n",
      "14. 50495\n",
      "15. 5307\n",
      "16. 53076\n",
      "17. 55908\n",
      "18. 56126\n",
      "19. 61985\n",
      "20. 62069\n",
      "21. 62469\n",
      "22. 62523\n",
      "23. 63692\n",
      "24. 66251\n",
      "25. 67014\n",
      "26. 68335\n",
      "27. 69805\n",
      "28. 71920\n",
      "29. 72421\n",
      "30. 73376\n",
      "31. 76466\n",
      "32. 80071\n",
      "33. 81051\n",
      "34. 8164\n",
      "35. 83942\n",
      "36. 92429\n",
      "37. 9666\n",
      "38. 99065\n",
      "39. 99347\n",
      "40. 95661\n"
     ]
    }
   ],
   "source": [
    "prompt_query_sort_v2 = f\"Please sort the values in the following list in ascending order by numerical value, not alphabetically. {target_list}\"\n",
    "print(call_ollama(system_prompt, prompt_query_sort_v2))"
   ],
   "metadata": {
    "collapsed": false,
    "ExecuteTime": {
     "end_time": "2024-06-17T09:46:53.079413Z",
     "start_time": "2024-06-17T09:46:47.530454Z"
    }
   },
   "id": "b1ab1ff94025023a"
  },
  {
   "cell_type": "code",
   "execution_count": 18,
   "outputs": [
    {
     "name": "stdout",
     "output_type": "stream",
     "text": [
      "I'd be happy to help you sort the values in ascending numerical order! Here's the step-by-step process:\n",
      "\n",
      "1. First, I'll read through the list and identify each unique value.\n",
      "\n",
      "The values are:\n",
      "1841, 18255, 19263, 18317, 26802, 28632, 32835, 34144, 36942, 39756, 41445, 43280, 46931, 46373, 50495, 5307, 53076, 56908, 58025, 61885, 61920, 63692, 66151, 67014, 68335, 69805, 71621, 72421, 76466, 80071, 81051, 8164, 83942, 92429, 95661, 9666, 99065, 99347\n",
      "\n",
      "2. Next, I'll arrange the values in order from smallest to largest.\n",
      "\n",
      "Here's the sorted list:\n",
      "\n",
      "8164, 1841, 18255, 18317, 19263, 26802, 28632, 32835, 34144, 36942, 39756, 41445, 43280, 46931, 46373, 50495, 5307, 53076, 56908, 58025, 61885, 61920, 63692, 66151, 67014, 68335, 69805, 71621, 72421, 76466, 80071, 81051, 83942, 92429, 95661, 9666, 99065, 99347\n",
      "\n",
      "And that's the sorted list in ascending numerical order!\n"
     ]
    }
   ],
   "source": [
    "prompt_query_sort_v3 = f\"Please sort the values in the following list in ascending numerical order, rather than alphabetically. Think through the process step by step. {target_list}\"\n",
    "print(call_ollama(system_prompt, prompt_query_sort_v3))"
   ],
   "metadata": {
    "collapsed": false,
    "ExecuteTime": {
     "end_time": "2024-06-17T09:48:32.175024Z",
     "start_time": "2024-06-17T09:48:24.104449Z"
    }
   },
   "id": "64938deaae42393f"
  },
  {
   "cell_type": "code",
   "execution_count": 25,
   "outputs": [
    {
     "name": "stdout",
     "output_type": "stream",
     "text": [
      "To sort the values in ascending order by numerical value, not alphabetically, I will follow the steps you provided:\n",
      "\n",
      "Step 1: Convert to Numbers\n",
      "I will convert each value to a number. Here is the list with numbers:\n",
      "\n",
      "39756, 53076, 55126, 12226, 81051, 76466, 95661, 34144, 1841, 66151, 68335, 12430, 83942, 89652, 99347, 80071, 78893, 63692, 71920, 43280, 19263, 12946, 92429, 94334, 99065, 46373, 5307, 56908, 18317, 13200, 46931, 73376, 67014, 9666, 62469, 62523, 18255, 41445, 28632, 33937, 32835, 36942, 69805, 61885, 26802, 50495, 72421, 58025, 8164, 40652\n",
      "\n",
      "Step 2: Find the Smallest Number\n",
      "The smallest number in the list is 8164.\n",
      "\n",
      "Step 3: Repeat for All Values\n",
      "I will continue finding the next smallest number from the remaining values until all numbers are sorted:\n",
      "\n",
      "* Next smallest number: 1841\n",
      "* Remaining values: [8164, 5307, ...]\n",
      "* Next smallest number: 18255\n",
      "* ...\n",
      "* Finally, I have a fully sorted list:\n",
      "\n",
      "8164, 8164 ( duplicate value), 18317, 18255, 1841, 19263, 26802, 28632, 32835, 33937, 36942, 43280, 46373, 46931, 50495, 5307, 53076, 58025, 62523, 63692, 66151, 67014, 68335, 69805, 71920, 73376, 76466, 80071, 81051, 8164 ( duplicate value), 83942, 89652, 92429, 94334, 95661, 96965, 99065\n",
      "\n",
      "Step 4: Return Sorted List\n",
      "The sorted list is:\n",
      "\n",
      "[8164, 8164, 1841, 18255, 18317, 19263, 26802, 28632, 32835, 33937, 36942, 43280, 46373, 46931, 50495, 5307, 53076, 58025, 62523, 63692, 66151, 67014, 68335, 69805, 71920, 73376, 76466, 80071, 81051, 83942, 89652, 92429, 94334, 95661, 96965, 99065]\n",
      "\n",
      "Let me know if you have any further questions or if there's anything else I can help you with!\n"
     ]
    }
   ],
   "source": [
    "prompt_query_sort_v4 = f\"\"\"\n",
    "\"Please sort the values in the following list in ascending order by numerical value, not alphabetically. Think through the process step by step. Here are a few examples:\n",
    "\n",
    "Example1: [300, 20, 150] -> Please sort the values in the following list in ascending order by numerical value, not alphabetically. Here are a few examples:\n",
    "\n",
    "Example: Sort [300, 20, 150]. The sorted list is [20, 150, 300].\n",
    "Example: Sort [500, 45, 9]. The sorted list is [9, 45, 500].\n",
    "Example: Sort [111, 90, 200]. The sorted list is [90, 111, 200].\n",
    "\n",
    "Steps to sort the values:\n",
    "\n",
    "Convert to Numbers: Convert each value to a number. For example, '300' becomes 300, '20' becomes 20, and '150' becomes 150.\n",
    "Find the Smallest Number: Identify the smallest number among the converted values.\n",
    "Repeat for All Values: Continue finding the next smallest number from the remaining values until all numbers are sorted.\n",
    "Return Sorted List: Compile the sorted numbers into a new list.\n",
    "\n",
    "Now, please sort the following list: {target_list}.\"\n",
    "\"\"\"\n",
    "\n",
    "print(call_ollama(system_prompt, prompt_query_sort_v4))"
   ],
   "metadata": {
    "collapsed": false,
    "ExecuteTime": {
     "end_time": "2024-06-17T09:57:57.493784Z",
     "start_time": "2024-06-17T09:57:43.250181Z"
    }
   },
   "id": "2b24b649bb9b3ab2"
  },
  {
   "cell_type": "code",
   "execution_count": 28,
   "outputs": [
    {
     "name": "stdout",
     "output_type": "stream",
     "text": [
      "[39756, 53076, 55126, 12226, 81051, 76466, 95661, 34144, 1841, 66151, 68335, 12430, 83942, 89652, 99347, 80071, 78893, 63692, 71920, 43280, 19263, 12946, 92429, 94334, 99065, 46373, 5307, 56908, 18317, 13200, 46931, 73376, 67014, 9666, 62469, 62523, 18255, 41445, 28632, 33937, 32835, 36942, 69805, 61885, 26802, 50495, 72421, 58025, 8164, 40652]\n"
     ]
    }
   ],
   "source": [
    "print(target_list)"
   ],
   "metadata": {
    "collapsed": false,
    "ExecuteTime": {
     "end_time": "2024-06-17T09:59:51.680909Z",
     "start_time": "2024-06-17T09:59:51.674839Z"
    }
   },
   "id": "8d36fa89aa7b2830"
  },
  {
   "cell_type": "code",
   "execution_count": 30,
   "outputs": [
    {
     "name": "stdout",
     "output_type": "stream",
     "text": [
      "I'd be happy to help.\n",
      "\n",
      "To get the numbers and sort them in ascending order, I'll follow your instructions. Here are the steps:\n",
      "\n",
      "1. Get m numbers (1~n):\n",
      "You provided the following list of numbers:\n",
      "[92429, 94334, 99065, 46373, 5307, 56908, 18317, 13200, 46931, 73376, 67014, 9666, 62469, 62523]\n",
      "\n",
      "2. Sort numbers in ascending order:\n",
      "\n",
      "Here are the numbers in ascending order:\n",
      "[5307, 9666, 13200, 16373, 46373, 46931, 62469, 62523, 67014, 73376, 92429, 94334, 99065]\n",
      "\n",
      "Let me know if you need any further assistance!\n"
     ]
    }
   ],
   "source": [
    "prompt_query_sort_v5 = f\"\"\"\n",
    "Your role is as follows:\n",
    "1. Get m numbers (1~n)\n",
    "2. Sort numbers in ascending orders.\n",
    "[92429, 94334, 99065, 46373, 5307, 56908, 18317, 13200, 46931, 73376, 67014, 9666, 62469, 62523]\n",
    "\"\"\"\n",
    "\n",
    "print(call_ollama(system_prompt, prompt_query_sort_v5))"
   ],
   "metadata": {
    "collapsed": false,
    "ExecuteTime": {
     "end_time": "2024-06-17T10:00:28.700987Z",
     "start_time": "2024-06-17T10:00:24.901624Z"
    }
   },
   "id": "7604c3be398292bf"
  },
  {
   "cell_type": "code",
   "execution_count": null,
   "outputs": [],
   "source": [],
   "metadata": {
    "collapsed": false
   },
   "id": "a875a37f184efc1e"
  }
 ],
 "metadata": {
  "kernelspec": {
   "display_name": "Python 3",
   "language": "python",
   "name": "python3"
  },
  "language_info": {
   "codemirror_mode": {
    "name": "ipython",
    "version": 2
   },
   "file_extension": ".py",
   "mimetype": "text/x-python",
   "name": "python",
   "nbconvert_exporter": "python",
   "pygments_lexer": "ipython2",
   "version": "2.7.6"
  }
 },
 "nbformat": 4,
 "nbformat_minor": 5
}
